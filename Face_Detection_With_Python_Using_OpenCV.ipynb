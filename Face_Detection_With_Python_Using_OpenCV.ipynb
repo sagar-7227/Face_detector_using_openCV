{
  "nbformat": 4,
  "nbformat_minor": 0,
  "metadata": {
    "colab": {
      "name": "Face Detection With Python Using OpenCV",
      "provenance": [],
      "authorship_tag": "ABX9TyMtrjfdfNeZiaumWhj7nugI",
      "include_colab_link": true
    },
    "kernelspec": {
      "name": "python3",
      "display_name": "Python 3"
    },
    "language_info": {
      "name": "python"
    },
    "accelerator": "GPU"
  },
  "cells": [
    {
      "cell_type": "markdown",
      "metadata": {
        "id": "view-in-github",
        "colab_type": "text"
      },
      "source": [
        "<a href=\"https://colab.research.google.com/github/sagar-7227/Face_detector_using_openCV/blob/main/Face_Detection_With_Python_Using_OpenCV.ipynb\" target=\"_parent\"><img src=\"https://colab.research.google.com/assets/colab-badge.svg\" alt=\"Open In Colab\"/></a>"
      ]
    },
    {
      "cell_type": "markdown",
      "metadata": {
        "id": "LtYr1G7s9M0M"
      },
      "source": [
        "**Face detecton with python**\n"
      ]
    },
    {
      "cell_type": "markdown",
      "metadata": {
        "id": "H1T23PKb9Xk2"
      },
      "source": [
        "Import the openCV library\n"
      ]
    },
    {
      "cell_type": "code",
      "metadata": {
        "id": "trIN7nP_9caT"
      },
      "source": [
        "import cv2"
      ],
      "execution_count": 1,
      "outputs": []
    },
    {
      "cell_type": "markdown",
      "metadata": {
        "id": "zu2nndCM9ogW"
      },
      "source": [
        "using the pretrained classifier"
      ]
    },
    {
      "cell_type": "code",
      "metadata": {
        "id": "jKlQadIB9uFc"
      },
      "source": [
        "face_cascade = cv2.CascadeClassifier('face_detector.xml') "
      ],
      "execution_count": 2,
      "outputs": []
    },
    {
      "cell_type": "markdown",
      "metadata": {
        "id": "BNX0bWps9-0Q"
      },
      "source": [
        "upoad the image"
      ]
    },
    {
      "cell_type": "code",
      "metadata": {
        "id": "j5jlucoo-CNI"
      },
      "source": [
        "img = cv2.imread('test1.jpg')"
      ],
      "execution_count": 3,
      "outputs": []
    },
    {
      "cell_type": "markdown",
      "metadata": {
        "id": "yHQ1Csz3-LcV"
      },
      "source": [
        "perform the face detection"
      ]
    },
    {
      "cell_type": "code",
      "metadata": {
        "id": "9SqLdGWS-So-"
      },
      "source": [
        "faces= face_cascade.detectMultiScale(img, 1.1 ,4)"
      ],
      "execution_count": 5,
      "outputs": []
    },
    {
      "cell_type": "markdown",
      "metadata": {
        "id": "S2khu4R9TClR"
      },
      "source": [
        "draw rectangle"
      ]
    },
    {
      "cell_type": "code",
      "metadata": {
        "id": "yvdQu_BqTFdx"
      },
      "source": [
        "for (x,y,w,h) in faces :\n",
        "  cv2.rectangle(img,(x,y),(x+w, y+h),(255,0,0),2)"
      ],
      "execution_count": 7,
      "outputs": []
    },
    {
      "cell_type": "markdown",
      "metadata": {
        "id": "_h2WuqXcTcX6"
      },
      "source": [
        "export detector file"
      ]
    },
    {
      "cell_type": "code",
      "metadata": {
        "colab": {
          "base_uri": "https://localhost:8080/"
        },
        "id": "GOfufVKuTgFg",
        "outputId": "3ba9cc7a-143a-42c1-c4bf-fb619b801d44"
      },
      "source": [
        "cv2.imwrite(\"face_detected.png\",img)\n",
        "print('Photo succesfully exported')"
      ],
      "execution_count": 8,
      "outputs": [
        {
          "output_type": "stream",
          "text": [
            "Photo succesfully exported\n"
          ],
          "name": "stdout"
        }
      ]
    }
  ]
}